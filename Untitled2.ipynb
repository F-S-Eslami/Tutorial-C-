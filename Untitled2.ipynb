{
  "nbformat": 4,
  "nbformat_minor": 0,
  "metadata": {
    "colab": {
      "provenance": [],
      "authorship_tag": "ABX9TyMpESLeb2tFUEyJmFR/ADMm",
      "include_colab_link": true
    },
    "kernelspec": {
      "name": "python3",
      "display_name": "Python 3"
    },
    "language_info": {
      "name": "python"
    }
  },
  "cells": [
    {
      "cell_type": "markdown",
      "metadata": {
        "id": "view-in-github",
        "colab_type": "text"
      },
      "source": [
        "<a href=\"https://colab.research.google.com/github/F-S-Eslami/Tutorial-C-/blob/master/Untitled2.ipynb\" target=\"_parent\"><img src=\"https://colab.research.google.com/assets/colab-badge.svg\" alt=\"Open In Colab\"/></a>"
      ]
    },
    {
      "cell_type": "code",
      "execution_count": 8,
      "metadata": {
        "colab": {
          "base_uri": "https://localhost:8080/"
        },
        "id": "XoSG3UP6mCyA",
        "outputId": "047a66bf-63f5-441d-a994-c9be3d495f70"
      },
      "outputs": [
        {
          "output_type": "stream",
          "name": "stdout",
          "text": [
            "[23, 31, 18]\n"
          ]
        }
      ],
      "source": [
        "ages=[15, 23, 55, 31, 18]\n",
        "\n",
        "def myfunc(age):\n",
        "  if  ((18>age) or (age>45)):\n",
        "    return False\n",
        "  else:\n",
        "    return True\n",
        "\n",
        "print(list(filter(myfunc, ages)))"
      ]
    },
    {
      "cell_type": "markdown",
      "source": [
        "# **filter() Functoin**\n",
        "The filter() function returns an iterator where the items are filtered through a function to test if the item is accepted or not.\n",
        "## syntax\n",
        "filter(function, iterable)\n"
      ],
      "metadata": {
        "id": "fEJEmmept2eR"
      }
    }
  ]
}