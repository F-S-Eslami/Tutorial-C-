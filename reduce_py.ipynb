{
  "nbformat": 4,
  "nbformat_minor": 0,
  "metadata": {
    "colab": {
      "provenance": [],
      "authorship_tag": "ABX9TyNCFK0NM02c5xHqWXHU+620",
      "include_colab_link": true
    },
    "kernelspec": {
      "name": "python3",
      "display_name": "Python 3"
    },
    "language_info": {
      "name": "python"
    }
  },
  "cells": [
    {
      "cell_type": "markdown",
      "metadata": {
        "id": "view-in-github",
        "colab_type": "text"
      },
      "source": [
        "<a href=\"https://colab.research.google.com/github/F-S-Eslami/Tutorial-C-/blob/master/reduce_py.ipynb\" target=\"_parent\"><img src=\"https://colab.research.google.com/assets/colab-badge.svg\" alt=\"Open In Colab\"/></a>"
      ]
    },
    {
      "cell_type": "code",
      "execution_count": 10,
      "metadata": {
        "colab": {
          "base_uri": "https://localhost:8080/"
        },
        "id": "4ICGylYSb_6D",
        "outputId": "95dfcad2-23c2-40eb-9fee-af3ff4855577"
      },
      "outputs": [
        {
          "output_type": "stream",
          "name": "stdout",
          "text": [
            "The sum of the list elements is (Type 1) : 11\n",
            "The sum of the list elements is (Type 2) : 11\n",
            "The sum of the list elements is (Type 3) : 17\n",
            "The product of list elements is : 30\n"
          ]
        }
      ],
      "source": [
        "# importing functools for reduce()\n",
        "from functools import reduce\n",
        "\n",
        "# importing operator for operator functions\n",
        "import operator\n",
        "\n",
        "list=[2, 1, 5, 3]\n",
        "\n",
        "def myfunc(a, b):\n",
        "  return a+b\n",
        "\n",
        "print(\"The sum of the list elements is (Type 1) : \", end=\"\")\n",
        "print(reduce(myfunc, list))\n",
        "\n",
        "# Using the lambda function (is a small function that can take any number of arguments, but can only have one expression).\n",
        "print(\"The sum of the list elements is (Type 2) : \", end=\"\")\n",
        "print(reduce(lambda a, b: a+b, list))\n",
        "\n",
        "# Note that the initializer, when not None, is used as the first value instead of the first value from iterable , and after the whole iterable.\n",
        "print(\"The sum of the list elements is (Type 3) : \", end=\"\")\n",
        "print(reduce(lambda a, b: a+b, list,6))\n",
        "\n",
        "# using operator functions\n",
        "print(\"The product of list elements is : \", end=\"\")\n",
        "print(reduce(operator.mul, list))\n",
        "\n",
        "# using reduce to compute maximum element from list\n",
        "print(\"The maximum element of the list is : \", end=\"\")\n",
        "print(functools.reduce(lambda a, b: a if a > b else b, list))"
      ]
    },
    {
      "cell_type": "markdown",
      "source": [
        "# **reduce() Function**\n",
        "This function in the first step, first two elements of sequence are picked and the result is obtained.\n",
        "Next step is to apply the same function to the previously attained result and the number just succeeding the second element and the result is again stored.\n",
        "This process continues till no more elements are left in the container.\n",
        "The final returned result is returned and printed on console.\n",
        "\n",
        "# syntax\n",
        "reduce(function, iterables)"
      ],
      "metadata": {
        "id": "XmpC-yzY0F1n"
      }
    }
  ]
}