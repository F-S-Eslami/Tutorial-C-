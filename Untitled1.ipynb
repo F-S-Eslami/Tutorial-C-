{
  "nbformat": 4,
  "nbformat_minor": 0,
  "metadata": {
    "colab": {
      "provenance": [],
      "authorship_tag": "ABX9TyPzaBzPkil+1SDRCA+LmzN2",
      "include_colab_link": true
    },
    "kernelspec": {
      "name": "python3",
      "display_name": "Python 3"
    },
    "language_info": {
      "name": "python"
    }
  },
  "cells": [
    {
      "cell_type": "markdown",
      "metadata": {
        "id": "view-in-github",
        "colab_type": "text"
      },
      "source": [
        "<a href=\"https://colab.research.google.com/github/F-S-Eslami/Tutorial-C-/blob/master/Untitled1.ipynb\" target=\"_parent\"><img src=\"https://colab.research.google.com/assets/colab-badge.svg\" alt=\"Open In Colab\"/></a>"
      ]
    },
    {
      "cell_type": "code",
      "execution_count": 6,
      "metadata": {
        "colab": {
          "base_uri": "https://localhost:8080/"
        },
        "id": "O9R5kuNAVhpi",
        "outputId": "50222581-b27f-44c3-fe27-42ac2f92e573"
      },
      "outputs": [
        {
          "output_type": "stream",
          "name": "stdout",
          "text": [
            "['fateme eslami', 'mohsen kazemi']\n"
          ]
        }
      ],
      "source": [
        "def myfunc(name, family):\n",
        "  return name+\" \"+family\n",
        "\n",
        "x=map(myfunc, (\"fateme\", \"mohsen\"), (\"eslami\", \"kazemi\"))\n",
        "print(list(x))"
      ]
    },
    {
      "cell_type": "markdown",
      "source": [
        "# **Python map() Function**\n",
        "The map() function executes a specified function for each item in an iterable. The item is sent to the function as a parameter.\n",
        "so It can be an alternative to the for loop\n",
        "# Syntax\n",
        "map(function, iterables)"
      ],
      "metadata": {
        "id": "qdbz1ZdPYDKu"
      }
    },
    {
      "cell_type": "markdown",
      "source": [],
      "metadata": {
        "id": "gOzSsMGrVtoU"
      }
    }
  ]
}